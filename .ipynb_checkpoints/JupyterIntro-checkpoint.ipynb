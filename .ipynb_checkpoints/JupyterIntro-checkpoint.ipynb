{
 "cells": [
  {
   "cell_type": "code",
   "execution_count": null,
   "id": "01b2e877-9640-4ed9-8b8e-2f4e9da8079d",
   "metadata": {},
   "outputs": [],
   "source": [
    "A=[1,2,3,4,5,6]"
   ]
  },
  {
   "cell_type": "code",
   "execution_count": null,
   "id": "1132a178-c97a-4783-9197-195e84087fe9",
   "metadata": {},
   "outputs": [],
   "source": [
    "b=['fdfdsfd']"
   ]
  },
  {
   "cell_type": "code",
   "execution_count": null,
   "id": "5321187c-1f00-416a-98d7-494605a9b159",
   "metadata": {},
   "outputs": [],
   "source": []
  }
 ],
 "metadata": {
  "kernelspec": {
   "display_name": "Python 3 (ipykernel)",
   "language": "python",
   "name": "python3"
  },
  "language_info": {
   "codemirror_mode": {
    "name": "ipython",
    "version": 3
   },
   "file_extension": ".py",
   "mimetype": "text/x-python",
   "name": "python",
   "nbconvert_exporter": "python",
   "pygments_lexer": "ipython3",
   "version": "3.11.5"
  }
 },
 "nbformat": 4,
 "nbformat_minor": 5
}
