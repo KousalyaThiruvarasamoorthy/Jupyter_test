{
 "cells": [
  {
   "cell_type": "code",
   "execution_count": null,
   "id": "01b2e877-9640-4ed9-8b8e-2f4e9da8079d",
   "metadata": {},
   "outputs": [],
   "source": [
    "A=[1,2,3,4,5,6]"
   ]
  }
 ],
 "metadata": {
  "kernelspec": {
   "display_name": "Python 3 (ipykernel)",
   "language": "python",
   "name": "python3"
  },
  "language_info": {
   "codemirror_mode": {
    "name": "ipython",
    "version": 3
   },
   "file_extension": ".py",
   "mimetype": "text/x-python",
   "name": "python",
   "nbconvert_exporter": "python",
   "pygments_lexer": "ipython3",
   "version": "3.11.5"
  }
 },
 "nbformat": 4,
 "nbformat_minor": 5
}
